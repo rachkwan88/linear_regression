{
 "cells": [
  {
   "cell_type": "code",
   "execution_count": 14,
   "metadata": {},
   "outputs": [
    {
     "name": "stdout",
     "output_type": "stream",
     "text": [
      "Defaulting to user installation because normal site-packages is not writeable\n",
      "Collecting scikit-learn\n",
      "  Downloading scikit_learn-1.3.2-cp39-cp39-macosx_12_0_arm64.whl (9.5 MB)\n",
      "\u001b[K     |████████████████████████████████| 9.5 MB 1.0 MB/s eta 0:00:01\n",
      "\u001b[?25hCollecting threadpoolctl>=2.0.0\n",
      "  Downloading threadpoolctl-3.2.0-py3-none-any.whl (15 kB)\n",
      "Requirement already satisfied: numpy<2.0,>=1.17.3 in /Users/rachel/Library/Python/3.9/lib/python/site-packages (from scikit-learn) (1.26.2)\n",
      "Collecting scipy>=1.5.0\n",
      "  Downloading scipy-1.11.4-cp39-cp39-macosx_12_0_arm64.whl (29.7 MB)\n",
      "\u001b[K     |████████████████████████████████| 29.7 MB 48.7 MB/s eta 0:00:01:00:01\n",
      "\u001b[?25hCollecting joblib>=1.1.1\n",
      "  Downloading joblib-1.3.2-py3-none-any.whl (302 kB)\n",
      "\u001b[K     |████████████████████████████████| 302 kB 39.6 MB/s eta 0:00:01\n",
      "\u001b[?25hInstalling collected packages: threadpoolctl, scipy, joblib, scikit-learn\n",
      "Successfully installed joblib-1.3.2 scikit-learn-1.3.2 scipy-1.11.4 threadpoolctl-3.2.0\n",
      "\u001b[33mWARNING: You are using pip version 21.2.4; however, version 23.3.2 is available.\n",
      "You should consider upgrading via the '/Library/Developer/CommandLineTools/usr/bin/python3 -m pip install --upgrade pip' command.\u001b[0m\n",
      "Defaulting to user installation because normal site-packages is not writeable\n",
      "Requirement already satisfied: matplotlib in /Users/rachel/Library/Python/3.9/lib/python/site-packages (3.8.2)\n",
      "Requirement already satisfied: importlib-resources>=3.2.0 in /Users/rachel/Library/Python/3.9/lib/python/site-packages (from matplotlib) (6.1.1)\n",
      "Requirement already satisfied: python-dateutil>=2.7 in /Users/rachel/Library/Python/3.9/lib/python/site-packages (from matplotlib) (2.8.2)\n",
      "Requirement already satisfied: packaging>=20.0 in /Users/rachel/Library/Python/3.9/lib/python/site-packages (from matplotlib) (23.2)\n",
      "Requirement already satisfied: fonttools>=4.22.0 in /Users/rachel/Library/Python/3.9/lib/python/site-packages (from matplotlib) (4.47.0)\n",
      "Requirement already satisfied: pillow>=8 in /Users/rachel/Library/Python/3.9/lib/python/site-packages (from matplotlib) (10.1.0)\n",
      "Requirement already satisfied: kiwisolver>=1.3.1 in /Users/rachel/Library/Python/3.9/lib/python/site-packages (from matplotlib) (1.4.5)\n",
      "Requirement already satisfied: pyparsing>=2.3.1 in /Users/rachel/Library/Python/3.9/lib/python/site-packages (from matplotlib) (3.1.1)\n",
      "Requirement already satisfied: contourpy>=1.0.1 in /Users/rachel/Library/Python/3.9/lib/python/site-packages (from matplotlib) (1.2.0)\n",
      "Requirement already satisfied: numpy<2,>=1.21 in /Users/rachel/Library/Python/3.9/lib/python/site-packages (from matplotlib) (1.26.2)\n",
      "Requirement already satisfied: cycler>=0.10 in /Users/rachel/Library/Python/3.9/lib/python/site-packages (from matplotlib) (0.12.1)\n",
      "Requirement already satisfied: zipp>=3.1.0 in /Users/rachel/Library/Python/3.9/lib/python/site-packages (from importlib-resources>=3.2.0->matplotlib) (3.17.0)\n",
      "Requirement already satisfied: six>=1.5 in /Library/Developer/CommandLineTools/Library/Frameworks/Python3.framework/Versions/3.9/lib/python3.9/site-packages (from python-dateutil>=2.7->matplotlib) (1.15.0)\n",
      "\u001b[33mWARNING: You are using pip version 21.2.4; however, version 23.3.2 is available.\n",
      "You should consider upgrading via the '/Library/Developer/CommandLineTools/usr/bin/python3 -m pip install --upgrade pip' command.\u001b[0m\n"
     ]
    }
   ],
   "source": [
    "!pip3 install scikit-learn\n",
    "!pip3 install matplotlib"
   ]
  },
  {
   "cell_type": "code",
   "execution_count": 15,
   "metadata": {},
   "outputs": [],
   "source": [
    "from sklearn import datasets"
   ]
  },
  {
   "cell_type": "code",
   "execution_count": 16,
   "metadata": {},
   "outputs": [],
   "source": [
    "# generate random regression dataset\n",
    "x,y = datasets.make_regression(n_samples=100,n_features=1,n_targets=1,noise=10)"
   ]
  },
  {
   "cell_type": "code",
   "execution_count": 20,
   "metadata": {},
   "outputs": [
    {
     "data": {
      "text/plain": [
       "(array([[ 0.28948331],\n",
       "        [-0.48551724],\n",
       "        [ 1.02986592],\n",
       "        [ 0.1348119 ],\n",
       "        [-0.95956038],\n",
       "        [-0.52101137],\n",
       "        [ 1.48418431],\n",
       "        [-0.56040496],\n",
       "        [-0.90682384],\n",
       "        [-1.60301339],\n",
       "        [ 0.62654134],\n",
       "        [-0.38450456],\n",
       "        [ 0.88175233],\n",
       "        [-0.60364514],\n",
       "        [-1.17112174],\n",
       "        [ 2.21825962],\n",
       "        [-0.97916042],\n",
       "        [ 0.53235387],\n",
       "        [-0.902022  ],\n",
       "        [-0.43026509],\n",
       "        [-0.79812828],\n",
       "        [ 0.36361377],\n",
       "        [-1.1042803 ],\n",
       "        [-0.34174759],\n",
       "        [-0.25102654],\n",
       "        [ 0.39474087],\n",
       "        [-0.04879885],\n",
       "        [-0.61770046],\n",
       "        [ 0.07041009],\n",
       "        [ 0.46473692],\n",
       "        [-0.38843467],\n",
       "        [-0.24829771],\n",
       "        [ 0.60601621],\n",
       "        [ 0.77512789],\n",
       "        [ 0.65990362],\n",
       "        [-0.0646826 ],\n",
       "        [-1.45155853],\n",
       "        [-0.8862775 ],\n",
       "        [ 0.41152728],\n",
       "        [ 1.23210831],\n",
       "        [-1.38656182],\n",
       "        [ 0.7665358 ],\n",
       "        [-0.26307446],\n",
       "        [ 1.32050317],\n",
       "        [-0.13438738],\n",
       "        [-0.96859205],\n",
       "        [-0.20381116],\n",
       "        [-1.6079098 ],\n",
       "        [ 2.36334871],\n",
       "        [-0.3014134 ],\n",
       "        [ 1.1276715 ],\n",
       "        [ 0.66933998],\n",
       "        [ 0.73073694],\n",
       "        [-0.82661537],\n",
       "        [-0.84781944],\n",
       "        [-0.60596098],\n",
       "        [ 0.57440285],\n",
       "        [ 0.58546776],\n",
       "        [ 0.54510937],\n",
       "        [ 0.03607751],\n",
       "        [ 0.05170226],\n",
       "        [ 1.75385339],\n",
       "        [ 0.9463317 ],\n",
       "        [ 0.79927085],\n",
       "        [-1.34881816],\n",
       "        [ 0.72946543],\n",
       "        [ 2.82141382],\n",
       "        [ 0.09444853],\n",
       "        [-0.40878501],\n",
       "        [ 0.58443045],\n",
       "        [-2.01667921],\n",
       "        [ 0.01991327],\n",
       "        [ 0.55804858],\n",
       "        [-0.88470163],\n",
       "        [-1.74642921],\n",
       "        [ 0.60222748],\n",
       "        [ 2.07303078],\n",
       "        [-0.80603126],\n",
       "        [ 0.06105016],\n",
       "        [-0.75612104],\n",
       "        [-0.14183263],\n",
       "        [-0.28853215],\n",
       "        [ 1.25579617],\n",
       "        [ 1.43929783],\n",
       "        [ 0.03329338],\n",
       "        [-1.03185684],\n",
       "        [-1.76043492],\n",
       "        [ 0.55723658],\n",
       "        [-0.50037939],\n",
       "        [-2.63351294],\n",
       "        [ 0.05094266],\n",
       "        [ 1.14981107],\n",
       "        [-1.23711869],\n",
       "        [-0.96518281],\n",
       "        [-1.66352659],\n",
       "        [-0.30919893],\n",
       "        [-0.65978526],\n",
       "        [ 0.93847445],\n",
       "        [-0.14248357],\n",
       "        [-0.22441041]]),\n",
       " array([  20.62216189,   -2.41359651,   67.37578867,   29.95680757,\n",
       "         -71.79475991,  -39.73960547,  105.45311537,  -34.64405689,\n",
       "         -47.67842569, -100.67499318,   50.93572226,  -19.26550623,\n",
       "          69.58835699,  -56.75441987,  -68.92624518,  163.12468603,\n",
       "         -67.67800001,   32.01146763,  -57.18172142,  -25.94046759,\n",
       "         -43.89050966,   15.00663846,  -74.86262797,  -43.2834289 ,\n",
       "          -2.23946559,   32.82847865,   -0.2693093 ,  -49.01205008,\n",
       "           6.80821256,   35.02166735,  -45.86332982,  -21.87338495,\n",
       "          38.33398135,   58.97194674,   53.36912183,   -1.43535905,\n",
       "         -95.43757784,  -63.81547635,   27.73122034,   95.60255113,\n",
       "         -91.37992974,   18.96222702,  -22.32606746,   84.51673973,\n",
       "         -13.67505304,  -68.33620638,   -8.47625575, -103.38805959,\n",
       "         164.78113452,   -4.56151241,   83.1714828 ,   40.46505318,\n",
       "          27.43585645,  -28.05893378,  -62.46126159,  -36.20659025,\n",
       "          42.62006042,   48.03966933,   41.57933118,    4.41827556,\n",
       "           6.94263026,  120.87303851,   56.7827152 ,   44.08841821,\n",
       "         -86.7427984 ,   65.47081436,  214.33104495,    6.26826275,\n",
       "         -21.31094227,   34.1420021 , -150.92424375,   -2.04827944,\n",
       "          49.14020403,  -50.88029469, -130.58748005,   47.52972723,\n",
       "         144.02289249,  -55.55086284,    4.23749839,  -48.98632803,\n",
       "          -5.82017   ,  -11.60536635,   98.09440089,  121.50010289,\n",
       "           0.6114262 ,  -70.13325988, -122.99295145,   54.1755897 ,\n",
       "         -36.75133249, -192.88627974,    9.74136971,   98.65960497,\n",
       "         -94.62198554,  -65.58169715, -106.33218583,  -13.34152336,\n",
       "         -51.14927921,   58.14115278,   -2.48129423,   -4.76175726]))"
      ]
     },
     "execution_count": 20,
     "metadata": {},
     "output_type": "execute_result"
    }
   ],
   "source": [
    "x,y"
   ]
  },
  {
   "cell_type": "code",
   "execution_count": 22,
   "metadata": {},
   "outputs": [
    {
     "data": {
      "text/plain": [
       "((100, 1), (100,))"
      ]
     },
     "execution_count": 22,
     "metadata": {},
     "output_type": "execute_result"
    }
   ],
   "source": [
    "x.shape, y.shape"
   ]
  },
  {
   "cell_type": "code",
   "execution_count": 23,
   "metadata": {},
   "outputs": [
    {
     "data": {
      "text/plain": [
       "Text(0, 0.5, 'y')"
      ]
     },
     "execution_count": 23,
     "metadata": {},
     "output_type": "execute_result"
    },
    {
     "data": {
      "image/png": "[encoded data removed]",
      "text/plain": [
       "<Figure size 640x480 with 1 Axes>"
      ]
     },
     "metadata": {},
     "output_type": "display_data"
    }
   ],
   "source": [
    "import matplotlib.pyplot as plt\n",
    "plt.scatter(x,y)\n",
    "plt.xlabel('x')\n",
    "plt.ylabel('y')"
   ]
  },
  {
   "cell_type": "code",
   "execution_count": 27,
   "metadata": {},
   "outputs": [],
   "source": [
    "#split the dataset into train and test\n",
    "from sklearn.model_selection import train_test_split\n",
    "\n",
    "x_train,x_test,y_train,y_test = train_test_split(x,y,test_size=0.2)"
   ]
  },
  {
   "cell_type": "code",
   "execution_count": 30,
   "metadata": {},
   "outputs": [
    {
     "data": {
      "text/plain": [
       "(20, 1)"
      ]
     },
     "execution_count": 30,
     "metadata": {},
     "output_type": "execute_result"
    }
   ],
   "source": [
    "x_test.shape"
   ]
  },
  {
   "cell_type": "code",
   "execution_count": 31,
   "metadata": {},
   "outputs": [],
   "source": [
    "from sklearn.linear_model import LinearRegression"
   ]
  },
  {
   "cell_type": "code",
   "execution_count": 32,
   "metadata": {},
   "outputs": [],
   "source": [
    "lr = LinearRegression()"
   ]
  },
  {
   "cell_type": "code",
   "execution_count": 33,
   "metadata": {},
   "outputs": [
    {
     "data": {
      "text/html": [
       "<style>#sk-container-id-1 {color: black;}#sk-container-id-1 pre{padding: 0;}#sk-container-id-1 div.sk-toggleable {background-color: white;}#sk-container-id-1 label.sk-toggleable__label {cursor: pointer;display: block;width: 100%;margin-bottom: 0;padding: 0.3em;box-sizing: border-box;text-align: center;}#sk-container-id-1 label.sk-toggleable__label-arrow:before {content: \"▸\";float: left;margin-right: 0.25em;color: #696969;}#sk-container-id-1 label.sk-toggleable__label-arrow:hover:before {color: black;}#sk-container-id-1 div.sk-estimator:hover label.sk-toggleable__label-arrow:before {color: black;}#sk-container-id-1 div.sk-toggleable__content {max-height: 0;max-width: 0;overflow: hidden;text-align: left;background-color: #f0f8ff;}#sk-container-id-1 div.sk-toggleable__content pre {margin: 0.2em;color: black;border-radius: 0.25em;background-color: #f0f8ff;}#sk-container-id-1 input.sk-toggleable__control:checked~div.sk-toggleable__content {max-height: 200px;max-width: 100%;overflow: auto;}#sk-container-id-1 input.sk-toggleable__control:checked~label.sk-toggleable__label-arrow:before {content: \"▾\";}#sk-container-id-1 div.sk-estimator input.sk-toggleable__control:checked~label.sk-toggleable__label {background-color: #d4ebff;}#sk-container-id-1 div.sk-label input.sk-toggleable__control:checked~label.sk-toggleable__label {background-color: #d4ebff;}#sk-container-id-1 input.sk-hidden--visually {border: 0;clip: rect(1px 1px 1px 1px);clip: rect(1px, 1px, 1px, 1px);height: 1px;margin: -1px;overflow: hidden;padding: 0;position: absolute;width: 1px;}#sk-container-id-1 div.sk-estimator {font-family: monospace;background-color: #f0f8ff;border: 1px dotted black;border-radius: 0.25em;box-sizing: border-box;margin-bottom: 0.5em;}#sk-container-id-1 div.sk-estimator:hover {background-color: #d4ebff;}#sk-container-id-1 div.sk-parallel-item::after {content: \"\";width: 100%;border-bottom: 1px solid gray;flex-grow: 1;}#sk-container-id-1 div.sk-label:hover label.sk-toggleable__label {background-color: #d4ebff;}#sk-container-id-1 div.sk-serial::before {content: \"\";position: absolute;border-left: 1px solid gray;box-sizing: border-box;top: 0;bottom: 0;left: 50%;z-index: 0;}#sk-container-id-1 div.sk-serial {display: flex;flex-direction: column;align-items: center;background-color: white;padding-right: 0.2em;padding-left: 0.2em;position: relative;}#sk-container-id-1 div.sk-item {position: relative;z-index: 1;}#sk-container-id-1 div.sk-parallel {display: flex;align-items: stretch;justify-content: center;background-color: white;position: relative;}#sk-container-id-1 div.sk-item::before, #sk-container-id-1 div.sk-parallel-item::before {content: \"\";position: absolute;border-left: 1px solid gray;box-sizing: border-box;top: 0;bottom: 0;left: 50%;z-index: -1;}#sk-container-id-1 div.sk-parallel-item {display: flex;flex-direction: column;z-index: 1;position: relative;background-color: white;}#sk-container-id-1 div.sk-parallel-item:first-child::after {align-self: flex-end;width: 50%;}#sk-container-id-1 div.sk-parallel-item:last-child::after {align-self: flex-start;width: 50%;}#sk-container-id-1 div.sk-parallel-item:only-child::after {width: 0;}#sk-container-id-1 div.sk-dashed-wrapped {border: 1px dashed gray;margin: 0 0.4em 0.5em 0.4em;box-sizing: border-box;padding-bottom: 0.4em;background-color: white;}#sk-container-id-1 div.sk-label label {font-family: monospace;font-weight: bold;display: inline-block;line-height: 1.2em;}#sk-container-id-1 div.sk-label-container {text-align: center;}#sk-container-id-1 div.sk-container {/* jupyter's `normalize.less` sets `[hidden] { display: none; }` but bootstrap.min.css set `[hidden] { display: none !important; }` so we also need the `!important` here to be able to override the default hidden behavior on the sphinx rendered scikit-learn.org. See: https://github.com/scikit-learn/scikit-learn/issues/21755 */display: inline-block !important;position: relative;}#sk-container-id-1 div.sk-text-repr-fallback {display: none;}</style><div id=\"sk-container-id-1\" class=\"sk-top-container\"><div class=\"sk-text-repr-fallback\"><pre>LinearRegression()</pre><b>In a Jupyter environment, please rerun this cell to show the HTML representation or trust the notebook. <br />On GitHub, the HTML representation is unable to render, please try loading this page with nbviewer.org.</b></div><div class=\"sk-container\" hidden><div class=\"sk-item\"><div class=\"sk-estimator sk-toggleable\"><input class=\"sk-toggleable__control sk-hidden--visually\" id=\"sk-estimator-id-1\" type=\"checkbox\" checked><label for=\"sk-estimator-id-1\" class=\"sk-toggleable__label sk-toggleable__label-arrow\">LinearRegression</label><div class=\"sk-toggleable__content\"><pre>LinearRegression()</pre></div></div></div></div></div>"
      ],
      "text/plain": [
       "LinearRegression()"
      ]
     },
     "execution_count": 33,
     "metadata": {},
     "output_type": "execute_result"
    }
   ],
   "source": [
    "lr.fit(x_train,y_train)"
   ]
  },
  {
   "cell_type": "code",
   "execution_count": 34,
   "metadata": {},
   "outputs": [
    {
     "data": {
      "text/plain": [
       "2.0186043036173835"
      ]
     },
     "execution_count": 34,
     "metadata": {},
     "output_type": "execute_result"
    }
   ],
   "source": [
    "lr.intercept_"
   ]
  },
  {
   "cell_type": "code",
   "execution_count": 35,
   "metadata": {},
   "outputs": [
    {
     "data": {
      "text/plain": [
       "array([70.2912214])"
      ]
     },
     "execution_count": 35,
     "metadata": {},
     "output_type": "execute_result"
    }
   ],
   "source": [
    "lr.coef_"
   ]
  },
  {
   "cell_type": "code",
   "execution_count": 37,
   "metadata": {},
   "outputs": [],
   "source": [
    "y_predict = lr.predict(x_train)"
   ]
  },
  {
   "cell_type": "code",
   "execution_count": 42,
   "metadata": {},
   "outputs": [
    {
     "data": {
      "text/plain": [
       "array([[0.05094266],\n",
       "       [0.72946543],\n",
       "       [1.1276715 ],\n",
       "       [0.03607751],\n",
       "       [1.23210831]])"
      ]
     },
     "execution_count": 42,
     "metadata": {},
     "output_type": "execute_result"
    }
   ],
   "source": [
    "#show first 5 values\n",
    "x_train[:5]"
   ]
  },
  {
   "cell_type": "code",
   "execution_count": 43,
   "metadata": {},
   "outputs": [
    {
     "data": {
      "text/plain": [
       "array([ 9.74136971, 65.47081436, 83.1714828 ,  4.41827556, 95.60255113])"
      ]
     },
     "execution_count": 43,
     "metadata": {},
     "output_type": "execute_result"
    }
   ],
   "source": [
    "y_train[:5]"
   ]
  },
  {
   "cell_type": "code",
   "execution_count": 44,
   "metadata": {},
   "outputs": [
    {
     "data": {
      "text/plain": [
       "array([ 5.59942579, 53.29362056, 81.28401162,  4.55453666, 88.62500233])"
      ]
     },
     "execution_count": 44,
     "metadata": {},
     "output_type": "execute_result"
    }
   ],
   "source": [
    "y_predict[:5]"
   ]
  },
  {
   "cell_type": "code",
   "execution_count": 45,
   "metadata": {},
   "outputs": [
    {
     "data": {
      "text/plain": [
       "Text(0, 0.5, 'y')"
      ]
     },
     "execution_count": 45,
     "metadata": {},
     "output_type": "execute_result"
    },
    {
     "data": {
      "image/png": "[encoded data removed]",
      "text/plain": [
       "<Figure size 640x480 with 1 Axes>"
      ]
     },
     "metadata": {},
     "output_type": "display_data"
    }
   ],
   "source": [
    "import matplotlib.pyplot as plt\n",
    "plt.scatter(x,y)\n",
    "plt.plot(x_train,y_predict,color='red')\n",
    "plt.xlabel('x')\n",
    "plt.ylabel('y')"
   ]
  },
  {
   "cell_type": "code",
   "execution_count": 48,
   "metadata": {},
   "outputs": [
    {
     "data": {
      "text/plain": [
       "array([142.60104711])"
      ]
     },
     "execution_count": 48,
     "metadata": {},
     "output_type": "execute_result"
    }
   ],
   "source": [
    "lr.predict([[2]])"
   ]
  }
 ],
 "metadata": {
  "kernelspec": {
   "display_name": "Python 3",
   "language": "python",
   "name": "python3"
  },
  "language_info": {
   "codemirror_mode": {
    "name": "ipython",
    "version": 3
   },
   "file_extension": ".py",
   "mimetype": "text/x-python",
   "name": "python",
   "nbconvert_exporter": "python",
   "pygments_lexer": "ipython3",
   "version": "3.9.6"
  }
 },
 "nbformat": 4,
 "nbformat_minor": 2
}
